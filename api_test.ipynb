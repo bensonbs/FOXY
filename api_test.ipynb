{
 "cells": [
  {
   "cell_type": "code",
   "execution_count": 2,
   "metadata": {},
   "outputs": [],
   "source": [
    "import json,requests,io,base64\n",
    "from PIL import Image\n",
    "\n",
    "def api(img_base64,caption):\n",
    "    r = requests.post('http://0.0.0.0:5000/upload', \n",
    "    data = {\n",
    "        'base64_str':f'{img_base64}',\n",
    "        'caption': caption\n",
    "    })\n",
    "\n",
    "    return json.loads(r.text)\n",
    "\n",
    "def image_to_base64(img):\n",
    "    output_buffer = io.BytesIO()\n",
    "    img.save(output_buffer, format='JPEG')\n",
    "    byte_data = output_buffer.getvalue()\n",
    "    base64_str = base64.b64encode(byte_data)\n",
    "    return base64_str"
   ]
  },
  {
   "cell_type": "code",
   "execution_count": null,
   "metadata": {},
   "outputs": [],
   "source": []
  },
  {
   "cell_type": "code",
   "execution_count": null,
   "metadata": {},
   "outputs": [],
   "source": []
  }
 ],
 "metadata": {
  "kernelspec": {
   "display_name": "Python 3",
   "language": "python",
   "name": "python3"
  },
  "language_info": {
   "codemirror_mode": {
    "name": "ipython",
    "version": 3
   },
   "file_extension": ".py",
   "mimetype": "text/x-python",
   "name": "python",
   "nbconvert_exporter": "python",
   "pygments_lexer": "ipython3",
   "version": "3.9.16"
  },
  "vscode": {
   "interpreter": {
    "hash": "465d5609a78096150208386bcbfa06fe5619bdb8561176eb50d4dedfa38024f5"
   }
  }
 },
 "nbformat": 4,
 "nbformat_minor": 4
}
